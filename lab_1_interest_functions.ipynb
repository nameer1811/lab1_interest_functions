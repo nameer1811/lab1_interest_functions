{
  "cells": [
    {
      "cell_type": "markdown",
      "metadata": {
        "id": "view-in-github",
        "colab_type": "text"
      },
      "source": [
        "<a href=\"https://colab.research.google.com/github/nameer1811/lab1_interest_functions/blob/master/lab_1_interest_functions.ipynb\" target=\"_parent\"><img src=\"https://colab.research.google.com/assets/colab-badge.svg\" alt=\"Open In Colab\"/></a>"
      ]
    },
    {
      "cell_type": "markdown",
      "metadata": {
        "id": "23NDkwGlaO0n"
      },
      "source": [
        "## Lab 1 - Compound Interest Functions\n",
        "\n",
        "Below you will find a table of important formulae related to compound interest.  \n",
        "\n",
        "<img src=\"https://www.dummies.com/wp-content/uploads/251689.image0.jpg\" alt=\"image0.jpg\" width=\"400\" height=\"319\">\n",
        "\n",
        "In this lab, you will create functions for each of these using (and documenting) the following workflow.\n",
        "\n",
        "1. Work out the correct answer for a few examples. *Hint* Search for e.g. \"worked out compound interest examples\" on the web.\n",
        "2. Write a `lambda` function and test this function on your test cases.\n",
        "3. Convert the `lambda` function to a `def` statement with an informative doc string that follows the [Google formating rules](https://google.github.io/styleguide/pyguide.html#383-functions-and-methods).\n",
        "4. Write an automated test function (using your previous examples) that will test your `def` statement function each time the code is executed."
      ]
    },
    {
      "cell_type": "markdown",
      "metadata": {
        "id": "-cMBBFHJaO0q"
      },
      "source": [
        "#### Problem 1 -- Apply the process to create a simple interest functions."
      ]
    },
    {
      "cell_type": "code",
      "execution_count": 1,
      "metadata": {
        "id": "qe9Ggf4EaO0r",
        "outputId": "282829b6-49f0-49fa-819a-220d8a0285a4",
        "colab": {
          "base_uri": "https://localhost:8080/"
        }
      },
      "outputs": [
        {
          "output_type": "execute_result",
          "data": {
            "text/plain": [
              "40.0"
            ]
          },
          "metadata": {},
          "execution_count": 1
        }
      ],
      "source": [
        "P,r,t = 500,0.04,2\n",
        "I = P*r*t\n",
        "I"
      ]
    },
    {
      "cell_type": "code",
      "source": [
        "P,r,t = 1200,0.06,4/12\n",
        "I = P*r*t\n",
        "I"
      ],
      "metadata": {
        "id": "ztIxEpt0gfv8",
        "outputId": "a7b524c9-7486-4e8d-c0bc-58405df22158",
        "colab": {
          "base_uri": "https://localhost:8080/"
        }
      },
      "execution_count": 2,
      "outputs": [
        {
          "output_type": "execute_result",
          "data": {
            "text/plain": [
              "24.0"
            ]
          },
          "metadata": {},
          "execution_count": 2
        }
      ]
    },
    {
      "cell_type": "code",
      "source": [
        "simpleInterestLambda = lambda P,r,t: P*r*t\n",
        "simpleInterestLambda(500,0.04,2)"
      ],
      "metadata": {
        "id": "CyywOcrOib_Q",
        "outputId": "4814f6c1-373c-4443-be09-dd68dc3c24fd",
        "colab": {
          "base_uri": "https://localhost:8080/"
        }
      },
      "execution_count": 3,
      "outputs": [
        {
          "output_type": "execute_result",
          "data": {
            "text/plain": [
              "40.0"
            ]
          },
          "metadata": {},
          "execution_count": 3
        }
      ]
    },
    {
      "cell_type": "code",
      "source": [
        "simpleInterestLambda(1200,0.06,4/12)"
      ],
      "metadata": {
        "id": "DsWoCW2kgpyD",
        "outputId": "79a49e90-6a00-424c-d82b-ff2be5dc68ed",
        "colab": {
          "base_uri": "https://localhost:8080/"
        }
      },
      "execution_count": 4,
      "outputs": [
        {
          "output_type": "execute_result",
          "data": {
            "text/plain": [
              "24.0"
            ]
          },
          "metadata": {},
          "execution_count": 4
        }
      ]
    },
    {
      "cell_type": "code",
      "source": [
        "def simpleInterest(principal, rate, timeY):\n",
        "  \"\"\" Compute the simple interest of a principal amount based on the interest\n",
        "      rate and time (in years)\n",
        "      \n",
        "      Args:\n",
        "          principal: principal amount\n",
        "          rate: interest rate\n",
        "          time: amount of time (in years) the interest will take place\n",
        "      Returns:\n",
        "          The simple interest on the principal amount\n",
        "  \"\"\"\n",
        "  simpleInterest = principal*rate*timeY\n",
        "  return simpleInterest\n",
        "\n",
        "simpleInterest(1200,0.06,4/12)"
      ],
      "metadata": {
        "id": "JXRl_tjOg-az",
        "outputId": "c92fa6a8-4573-49c8-f69a-4d9d581e5df3",
        "colab": {
          "base_uri": "https://localhost:8080/"
        }
      },
      "execution_count": 5,
      "outputs": [
        {
          "output_type": "execute_result",
          "data": {
            "text/plain": [
              "24.0"
            ]
          },
          "metadata": {},
          "execution_count": 5
        }
      ]
    },
    {
      "cell_type": "code",
      "source": [
        "def test_simpleInterest():\n",
        "  assert simpleInterest(1200,0.06,4/12) == 24\n",
        "  assert simpleInterest(500,0.04,2) == 40\n",
        "  assert not simpleInterest(600,0.05,10) == 50\n",
        "\n",
        "test_simpleInterest()"
      ],
      "metadata": {
        "id": "Vsi8myfxiRFv"
      },
      "execution_count": 6,
      "outputs": []
    },
    {
      "cell_type": "markdown",
      "metadata": {
        "id": "ufp0ql4GaO0w"
      },
      "source": [
        "#### Problem 2 -- Apply the process to create a compound interest functions."
      ]
    },
    {
      "cell_type": "code",
      "execution_count": 7,
      "metadata": {
        "id": "QFm8idtwaO0y",
        "outputId": "13bcb23e-9c02-4a0f-88dd-b8a45c0cad4f",
        "colab": {
          "base_uri": "https://localhost:8080/"
        }
      },
      "outputs": [
        {
          "output_type": "execute_result",
          "data": {
            "text/plain": [
              "8235.05"
            ]
          },
          "metadata": {},
          "execution_count": 7
        }
      ],
      "source": [
        "P,r,n,t = 5000,0.05,12,10\n",
        "A = P*(1+r/n)**(n*t)\n",
        "round(A,2)"
      ]
    },
    {
      "cell_type": "code",
      "source": [
        "P,r,n,t = 1000,0.08,5,20\n",
        "A = P*(1+r/n)**(n*t)\n",
        "round(A,2)"
      ],
      "metadata": {
        "id": "QWiC2duKj_EV",
        "outputId": "9caa3057-d3cc-43f6-acde-b3e044f4dcce",
        "colab": {
          "base_uri": "https://localhost:8080/"
        }
      },
      "execution_count": 8,
      "outputs": [
        {
          "output_type": "execute_result",
          "data": {
            "text/plain": [
              "4890.7"
            ]
          },
          "metadata": {},
          "execution_count": 8
        }
      ]
    },
    {
      "cell_type": "code",
      "source": [
        "compoundInterestLambda = lambda P,r,n,t: round(P*(1+r/n)**(n*t),2)\n",
        "compoundInterestLambda(5000,0.05,12,10)"
      ],
      "metadata": {
        "id": "pThkfgSikIAL",
        "outputId": "e9c8abe2-ab52-4890-e7d1-09abeb7f230d",
        "colab": {
          "base_uri": "https://localhost:8080/"
        }
      },
      "execution_count": 9,
      "outputs": [
        {
          "output_type": "execute_result",
          "data": {
            "text/plain": [
              "8235.05"
            ]
          },
          "metadata": {},
          "execution_count": 9
        }
      ]
    },
    {
      "cell_type": "code",
      "source": [
        "compoundInterestLambda(1000,0.08,5,20)"
      ],
      "metadata": {
        "id": "cclSX_BQkafl",
        "outputId": "0bd77364-612f-416b-a454-ce4963a49ca6",
        "colab": {
          "base_uri": "https://localhost:8080/"
        }
      },
      "execution_count": 10,
      "outputs": [
        {
          "output_type": "execute_result",
          "data": {
            "text/plain": [
              "4890.7"
            ]
          },
          "metadata": {},
          "execution_count": 10
        }
      ]
    },
    {
      "cell_type": "code",
      "source": [
        "def compoundInterest(principal, rate, n,timeY):\n",
        "  \"\"\" Compute the compound interest of a principal amount based on the interest\n",
        "      rate, number of times the interest is compounded and time (in years)\n",
        "      \n",
        "      Args:\n",
        "          principal: principal amount\n",
        "          rate: interest rate\n",
        "          n: number of times the interest is compounded\n",
        "          time: amount of time (in years) the interest will take place\n",
        "      Returns:\n",
        "          The compound interest on the principal amount\n",
        "  \"\"\"\n",
        "  compoundInterest = principal*(1+rate/n)**(n*timeY)\n",
        "  return round(compoundInterest,2)\n",
        "\n",
        "compoundInterest(1000,0.08,5,20)"
      ],
      "metadata": {
        "id": "6HRJD2bckeDf",
        "outputId": "e5940e07-cfd6-4572-f604-ced1566f287b",
        "colab": {
          "base_uri": "https://localhost:8080/"
        }
      },
      "execution_count": 11,
      "outputs": [
        {
          "output_type": "execute_result",
          "data": {
            "text/plain": [
              "4890.7"
            ]
          },
          "metadata": {},
          "execution_count": 11
        }
      ]
    },
    {
      "cell_type": "code",
      "source": [
        "def test_compoundInterest():\n",
        "  assert compoundInterest(5000,0.05,12,10) == 8235.05\n",
        "  assert compoundInterest(1000,0.08,5,20) == 4890.7\n",
        "  assert not compoundInterest(600,0.05,10,40) == 750\n",
        "\n",
        "test_compoundInterest()"
      ],
      "metadata": {
        "id": "nsQpSMQ5lCOg"
      },
      "execution_count": 12,
      "outputs": []
    },
    {
      "cell_type": "markdown",
      "metadata": {
        "id": "vhtFxPn6aO0z"
      },
      "source": [
        "#### Problem 3 -- Apply the process to create a amortized loan payment function."
      ]
    },
    {
      "cell_type": "code",
      "execution_count": 13,
      "metadata": {
        "id": "9cnEHgAuaO00",
        "outputId": "650a9809-debd-4663-d2de-e51b37711817",
        "colab": {
          "base_uri": "https://localhost:8080/"
        }
      },
      "outputs": [
        {
          "output_type": "execute_result",
          "data": {
            "text/plain": [
              "49098.31"
            ]
          },
          "metadata": {},
          "execution_count": 13
        }
      ],
      "source": [
        "P,i,n = 980000, 0.0286, 30\n",
        "R = (P*i)/(1-(1+i)**-n)\n",
        "round(R,2)"
      ]
    },
    {
      "cell_type": "code",
      "source": [
        "P,i,n = 2000000, 0.05, 20\n",
        "R = (P*i)/(1-(1+i)**-n)\n",
        "round(R,2)"
      ],
      "metadata": {
        "id": "Ec2Gutaz3P3e",
        "outputId": "bd6835ba-d02d-4d94-e350-5eab958c56a7",
        "colab": {
          "base_uri": "https://localhost:8080/"
        }
      },
      "execution_count": 14,
      "outputs": [
        {
          "output_type": "execute_result",
          "data": {
            "text/plain": [
              "160485.17"
            ]
          },
          "metadata": {},
          "execution_count": 14
        }
      ]
    },
    {
      "cell_type": "code",
      "source": [
        "amortizedLoanLambda = lambda P,i,n: round((P*i)/(1-(1+i)**-n),2)\n",
        "amortizedLoanLambda(980000, 0.0286, 30)"
      ],
      "metadata": {
        "id": "TtaFy5iH3dEf",
        "outputId": "aa603d75-e18f-4833-e28a-7b05c30b317d",
        "colab": {
          "base_uri": "https://localhost:8080/"
        }
      },
      "execution_count": 15,
      "outputs": [
        {
          "output_type": "execute_result",
          "data": {
            "text/plain": [
              "49098.31"
            ]
          },
          "metadata": {},
          "execution_count": 15
        }
      ]
    },
    {
      "cell_type": "code",
      "source": [
        "amortizedLoanLambda(2000000, 0.05, 20)"
      ],
      "metadata": {
        "id": "u8XVZm0v3srs",
        "outputId": "41bebe12-5833-46b2-f4ad-1d93c9f4cdc5",
        "colab": {
          "base_uri": "https://localhost:8080/"
        }
      },
      "execution_count": 16,
      "outputs": [
        {
          "output_type": "execute_result",
          "data": {
            "text/plain": [
              "160485.17"
            ]
          },
          "metadata": {},
          "execution_count": 16
        }
      ]
    },
    {
      "cell_type": "code",
      "source": [
        "def amortizedLoanPayment(borrowed, rate, n):\n",
        "  \"\"\" Compute the amortized loan payment amount\n",
        "      \n",
        "      Args:\n",
        "          borrowed: amount borrowed\n",
        "          rate: interest rate per period\n",
        "          n: number of payments\n",
        "      Returns:\n",
        "          The annual ammortized loan payment\n",
        "  \"\"\"\n",
        "  loanPayment = (borrowed*rate)/(1-(1+rate)**-n)\n",
        "  return round(loanPayment,2)\n",
        "\n",
        "amortizedLoanPayment(980000, 0.0286, 30)"
      ],
      "metadata": {
        "id": "ffja4oGv3wT0",
        "outputId": "f672f14c-286e-433b-9885-4b05a53c133e",
        "colab": {
          "base_uri": "https://localhost:8080/"
        }
      },
      "execution_count": 17,
      "outputs": [
        {
          "output_type": "execute_result",
          "data": {
            "text/plain": [
              "49098.31"
            ]
          },
          "metadata": {},
          "execution_count": 17
        }
      ]
    },
    {
      "cell_type": "code",
      "source": [
        "def test_amortizedLoanPayment():\n",
        "  assert amortizedLoanPayment(980000, 0.0286, 30) == 49098.31\n",
        "  assert amortizedLoanPayment(2000000, 0.05, 20) == 160485.17\n",
        "  assert not amortizedLoanPayment(6000000,0.532,40) == 750500.32\n",
        "\n",
        "test_compoundInterest()"
      ],
      "metadata": {
        "id": "IkF863nw4oS0"
      },
      "execution_count": 18,
      "outputs": []
    },
    {
      "cell_type": "markdown",
      "metadata": {
        "id": "Cj8uFpsjaO01"
      },
      "source": [
        "#### Problem 4 -- Apply the process to create a remaining balance function"
      ]
    },
    {
      "cell_type": "code",
      "execution_count": 19,
      "metadata": {
        "id": "I9qJZ2StaO01",
        "outputId": "fdc80edc-0bf5-4d01-adba-ff666abe851e",
        "colab": {
          "base_uri": "https://localhost:8080/"
        }
      },
      "outputs": [
        {
          "output_type": "execute_result",
          "data": {
            "text/plain": [
              "736361.06"
            ]
          },
          "metadata": {},
          "execution_count": 19
        }
      ],
      "source": [
        "R,i,n,x = 75000, 0.08,50,30\n",
        "B = R*(1-(1+i)**-(n-x))/i\n",
        "round(B,2)"
      ]
    },
    {
      "cell_type": "code",
      "source": [
        "R,i,n,x = 100000, 0.02,36,12\n",
        "B = R*(1-(1+i)**-(n-x))/i\n",
        "round(B,2)"
      ],
      "metadata": {
        "id": "2TLt5lmD7VDZ",
        "outputId": "8438f17c-6f3c-4912-caad-81039bcc5d2d",
        "colab": {
          "base_uri": "https://localhost:8080/"
        }
      },
      "execution_count": 20,
      "outputs": [
        {
          "output_type": "execute_result",
          "data": {
            "text/plain": [
              "1891392.56"
            ]
          },
          "metadata": {},
          "execution_count": 20
        }
      ]
    },
    {
      "cell_type": "code",
      "source": [
        "remianingBalanceLambda = lambda R,i,n,x: round(R*(1-(1+i)**-(n-x))/i,2)\n",
        "remianingBalanceLambda(75000, 0.08,50,30)"
      ],
      "metadata": {
        "id": "_TQhWeAm8M_5",
        "outputId": "27f3dd2b-ac46-4900-b66e-84f8360805fb",
        "colab": {
          "base_uri": "https://localhost:8080/"
        }
      },
      "execution_count": 21,
      "outputs": [
        {
          "output_type": "execute_result",
          "data": {
            "text/plain": [
              "736361.06"
            ]
          },
          "metadata": {},
          "execution_count": 21
        }
      ]
    },
    {
      "cell_type": "code",
      "source": [
        "remianingBalanceLambda(100000, 0.02,36,12)"
      ],
      "metadata": {
        "id": "9PVqRDXB8kpl",
        "outputId": "2bcd1d30-e7ff-42e1-be26-907d0dca88c9",
        "colab": {
          "base_uri": "https://localhost:8080/"
        }
      },
      "execution_count": 22,
      "outputs": [
        {
          "output_type": "execute_result",
          "data": {
            "text/plain": [
              "1891392.56"
            ]
          },
          "metadata": {},
          "execution_count": 22
        }
      ]
    },
    {
      "cell_type": "code",
      "source": [
        "def remianingBalance(regularPayments, rate, numPayments, paymentMade):\n",
        "  \"\"\" Compute the remaining balance\n",
        "      \n",
        "      Args:\n",
        "          regularPayments: amount borrowed\n",
        "          rate: interest rate per period\n",
        "          numPayments: number of payments\n",
        "          paymentMade: number of payments already made\n",
        "      Returns:\n",
        "          The remaining balance\n",
        "  \"\"\"\n",
        "  remBalance = regularPayments*(1-(1+rate)**-(numPayments-paymentMade))/rate\n",
        "  return round(remBalance,2)\n",
        "\n",
        "remianingBalance(75000, 0.08,50,30)"
      ],
      "metadata": {
        "id": "Z59jLFpC85lq",
        "outputId": "c9fa70de-8adf-4597-fe3f-93175014bb74",
        "colab": {
          "base_uri": "https://localhost:8080/"
        }
      },
      "execution_count": 23,
      "outputs": [
        {
          "output_type": "execute_result",
          "data": {
            "text/plain": [
              "736361.06"
            ]
          },
          "metadata": {},
          "execution_count": 23
        }
      ]
    },
    {
      "cell_type": "code",
      "source": [
        "def test_remianingBalance():\n",
        "  assert remianingBalance(75000, 0.08,50,30) == 736361.06\n",
        "  assert remianingBalance(100000, 0.02,36,12) == 1891392.56\n",
        "  assert not remianingBalance(43000,0.01,40,48) == 21200.50\n",
        "\n",
        "test_compoundInterest()"
      ],
      "metadata": {
        "id": "hwu73Yrs9g9k"
      },
      "execution_count": 24,
      "outputs": []
    }
  ],
  "metadata": {
    "kernelspec": {
      "display_name": "Python 3",
      "language": "python",
      "name": "python3"
    },
    "language_info": {
      "codemirror_mode": {
        "name": "ipython",
        "version": 3
      },
      "file_extension": ".py",
      "mimetype": "text/x-python",
      "name": "python",
      "nbconvert_exporter": "python",
      "pygments_lexer": "ipython3",
      "version": "3.7.2"
    },
    "colab": {
      "provenance": [],
      "include_colab_link": true
    }
  },
  "nbformat": 4,
  "nbformat_minor": 0
}