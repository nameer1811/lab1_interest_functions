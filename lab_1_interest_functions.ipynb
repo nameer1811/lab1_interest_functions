{
  "cells": [
    {
      "cell_type": "markdown",
      "metadata": {
        "id": "view-in-github",
        "colab_type": "text"
      },
      "source": [
        "<a href=\"https://colab.research.google.com/github/nameer1811/lab1_interest_functions/blob/master/lab_1_interest_functions.ipynb\" target=\"_parent\"><img src=\"https://colab.research.google.com/assets/colab-badge.svg\" alt=\"Open In Colab\"/></a>"
      ]
    },
    {
      "cell_type": "markdown",
      "metadata": {
        "id": "23NDkwGlaO0n"
      },
      "source": [
        "## Lab 1 - Compound Interest Functions\n",
        "\n",
        "Below you will find a table of important formulae related to compound interest.  \n",
        "\n",
        "<img src=\"https://www.dummies.com/wp-content/uploads/251689.image0.jpg\" alt=\"image0.jpg\" width=\"400\" height=\"319\">\n",
        "\n",
        "In this lab, you will create functions for each of these using (and documenting) the following workflow.\n",
        "\n",
        "1. Work out the correct answer for a few examples. *Hint* Search for e.g. \"worked out compound interest examples\" on the web.\n",
        "2. Write a `lambda` function and test this function on your test cases.\n",
        "3. Convert the `lambda` function to a `def` statement with an informative doc string that follows the [Google formating rules](https://google.github.io/styleguide/pyguide.html#383-functions-and-methods).\n",
        "4. Write an automated test function (using your previous examples) that will test your `def` statement function each time the code is executed."
      ]
    },
    {
      "cell_type": "markdown",
      "metadata": {
        "id": "-cMBBFHJaO0q"
      },
      "source": [
        "#### Problem 1 -- Apply the process to create a simple interest functions."
      ]
    },
    {
      "cell_type": "code",
      "execution_count": 47,
      "metadata": {
        "id": "qe9Ggf4EaO0r",
        "outputId": "fde32d92-4f1a-4203-9cb8-35e2cf222d15",
        "colab": {
          "base_uri": "https://localhost:8080/"
        }
      },
      "outputs": [
        {
          "output_type": "execute_result",
          "data": {
            "text/plain": [
              "40.0"
            ]
          },
          "metadata": {},
          "execution_count": 47
        }
      ],
      "source": [
        "P,r,t = 500,0.04,2\n",
        "I = P*r*t\n",
        "I"
      ]
    },
    {
      "cell_type": "code",
      "source": [
        "P,r,t = 1200,0.06,4/12\n",
        "I = P*r*t\n",
        "I"
      ],
      "metadata": {
        "id": "ztIxEpt0gfv8",
        "outputId": "e00f3226-6005-497d-bc04-c868baff2eee",
        "colab": {
          "base_uri": "https://localhost:8080/"
        }
      },
      "execution_count": 48,
      "outputs": [
        {
          "output_type": "execute_result",
          "data": {
            "text/plain": [
              "24.0"
            ]
          },
          "metadata": {},
          "execution_count": 48
        }
      ]
    },
    {
      "cell_type": "code",
      "source": [
        "simpleInterestLambda = lambda P,r,t: P*r*t if r != 0 and t !=0 else P\n",
        "simpleInterestLambda(500,0.04,2)"
      ],
      "metadata": {
        "id": "CyywOcrOib_Q",
        "outputId": "9f468e8a-630e-4123-e11a-4a15c29c7a62",
        "colab": {
          "base_uri": "https://localhost:8080/"
        }
      },
      "execution_count": 49,
      "outputs": [
        {
          "output_type": "execute_result",
          "data": {
            "text/plain": [
              "40.0"
            ]
          },
          "metadata": {},
          "execution_count": 49
        }
      ]
    },
    {
      "cell_type": "code",
      "source": [
        "simpleInterestLambda(1200,0.06,4/12)"
      ],
      "metadata": {
        "id": "DsWoCW2kgpyD",
        "outputId": "440ba92a-421f-4bb2-90a6-2064638ea767",
        "colab": {
          "base_uri": "https://localhost:8080/"
        }
      },
      "execution_count": 50,
      "outputs": [
        {
          "output_type": "execute_result",
          "data": {
            "text/plain": [
              "24.0"
            ]
          },
          "metadata": {},
          "execution_count": 50
        }
      ]
    },
    {
      "cell_type": "code",
      "source": [
        "simpleInterestLambda(13000,0.0,15)"
      ],
      "metadata": {
        "id": "zN7WIreuKO1j",
        "outputId": "6fafaf4c-eff4-4a19-de94-e901b791d8ef",
        "colab": {
          "base_uri": "https://localhost:8080/"
        }
      },
      "execution_count": 51,
      "outputs": [
        {
          "output_type": "execute_result",
          "data": {
            "text/plain": [
              "13000"
            ]
          },
          "metadata": {},
          "execution_count": 51
        }
      ]
    },
    {
      "cell_type": "code",
      "source": [
        "def simpleInterest(principal, rate, timeY):\n",
        "  \"\"\" Compute the simple interest of a principal amount based on the interest\n",
        "      rate and time (in years)\n",
        "      \n",
        "      Args:\n",
        "          principal: principal amount\n",
        "          rate: interest rate\n",
        "          time: amount of time (in years) the interest will take place\n",
        "      Returns:\n",
        "          The simple interest on the principal amount\n",
        "  \"\"\"\n",
        "  if(rate != 0 and timeY != 0):\n",
        "    simpleInterest = principal*rate*timeY\n",
        "    return simpleInterest\n",
        "  else:\n",
        "    return principal\n",
        "\n",
        "def test_simpleInterest():\n",
        "  assert simpleInterest(1200,0.06,4/12) == 24\n",
        "  assert simpleInterest(500,0.04,2) == 40\n",
        "  assert not simpleInterest(600,0.05,10) == 50\n",
        "  assert simpleInterest(13000,0.0,15) == 13000\n",
        "\n",
        "test_simpleInterest()"
      ],
      "metadata": {
        "id": "JXRl_tjOg-az"
      },
      "execution_count": 52,
      "outputs": []
    },
    {
      "cell_type": "markdown",
      "metadata": {
        "id": "ufp0ql4GaO0w"
      },
      "source": [
        "#### Problem 2 -- Apply the process to create a compound interest functions."
      ]
    },
    {
      "cell_type": "code",
      "execution_count": 53,
      "metadata": {
        "id": "QFm8idtwaO0y",
        "outputId": "562be9c6-473d-47af-9421-11ff9748d0c7",
        "colab": {
          "base_uri": "https://localhost:8080/"
        }
      },
      "outputs": [
        {
          "output_type": "execute_result",
          "data": {
            "text/plain": [
              "8235.05"
            ]
          },
          "metadata": {},
          "execution_count": 53
        }
      ],
      "source": [
        "P,r,n,t = 5000,0.05,12,10\n",
        "A = P*(1+r/n)**(n*t)\n",
        "round(A,2)"
      ]
    },
    {
      "cell_type": "code",
      "source": [
        "P,r,n,t = 1000,0.08,5,20\n",
        "A = P*(1+r/n)**(n*t)\n",
        "round(A,2)"
      ],
      "metadata": {
        "id": "QWiC2duKj_EV",
        "outputId": "823423a5-0859-4b5d-b4db-d60ec4341d47",
        "colab": {
          "base_uri": "https://localhost:8080/"
        }
      },
      "execution_count": 54,
      "outputs": [
        {
          "output_type": "execute_result",
          "data": {
            "text/plain": [
              "4890.7"
            ]
          },
          "metadata": {},
          "execution_count": 54
        }
      ]
    },
    {
      "cell_type": "code",
      "source": [
        "P,r,n,t = 100000,0.02,0,36\n",
        "A = P*(1+r/n)**(n*t)\n",
        "round(A,2)"
      ],
      "metadata": {
        "id": "F01GE811FLQa",
        "outputId": "a4121f1a-c92d-4db6-f6f2-df3cea20ce3a",
        "colab": {
          "base_uri": "https://localhost:8080/",
          "height": 200
        }
      },
      "execution_count": 55,
      "outputs": [
        {
          "output_type": "error",
          "ename": "ZeroDivisionError",
          "evalue": "ignored",
          "traceback": [
            "\u001b[0;31m---------------------------------------------------------------------------\u001b[0m",
            "\u001b[0;31mZeroDivisionError\u001b[0m                         Traceback (most recent call last)",
            "\u001b[0;32m<ipython-input-55-1788d4fee90c>\u001b[0m in \u001b[0;36m<module>\u001b[0;34m\u001b[0m\n\u001b[1;32m      1\u001b[0m \u001b[0mP\u001b[0m\u001b[0;34m,\u001b[0m\u001b[0mr\u001b[0m\u001b[0;34m,\u001b[0m\u001b[0mn\u001b[0m\u001b[0;34m,\u001b[0m\u001b[0mt\u001b[0m \u001b[0;34m=\u001b[0m \u001b[0;36m100000\u001b[0m\u001b[0;34m,\u001b[0m\u001b[0;36m0.02\u001b[0m\u001b[0;34m,\u001b[0m\u001b[0;36m0\u001b[0m\u001b[0;34m,\u001b[0m\u001b[0;36m36\u001b[0m\u001b[0;34m\u001b[0m\u001b[0;34m\u001b[0m\u001b[0m\n\u001b[0;32m----> 2\u001b[0;31m \u001b[0mA\u001b[0m \u001b[0;34m=\u001b[0m \u001b[0mP\u001b[0m\u001b[0;34m*\u001b[0m\u001b[0;34m(\u001b[0m\u001b[0;36m1\u001b[0m\u001b[0;34m+\u001b[0m\u001b[0mr\u001b[0m\u001b[0;34m/\u001b[0m\u001b[0mn\u001b[0m\u001b[0;34m)\u001b[0m\u001b[0;34m**\u001b[0m\u001b[0;34m(\u001b[0m\u001b[0mn\u001b[0m\u001b[0;34m*\u001b[0m\u001b[0mt\u001b[0m\u001b[0;34m)\u001b[0m\u001b[0;34m\u001b[0m\u001b[0;34m\u001b[0m\u001b[0m\n\u001b[0m\u001b[1;32m      3\u001b[0m \u001b[0mround\u001b[0m\u001b[0;34m(\u001b[0m\u001b[0mA\u001b[0m\u001b[0;34m,\u001b[0m\u001b[0;36m2\u001b[0m\u001b[0;34m)\u001b[0m\u001b[0;34m\u001b[0m\u001b[0;34m\u001b[0m\u001b[0m\n",
            "\u001b[0;31mZeroDivisionError\u001b[0m: float division by zero"
          ]
        }
      ]
    },
    {
      "cell_type": "code",
      "source": [
        "compoundInterestLambda = lambda P,r,n,t: round(P*(1+r/n)**(n*t),2) if n > 0 and r != 0 else P\n",
        "compoundInterestLambda(5000,0.05,12,10)"
      ],
      "metadata": {
        "id": "pThkfgSikIAL",
        "outputId": "9c380678-0308-4678-b756-8c72676e9efc",
        "colab": {
          "base_uri": "https://localhost:8080/"
        }
      },
      "execution_count": 56,
      "outputs": [
        {
          "output_type": "execute_result",
          "data": {
            "text/plain": [
              "8235.05"
            ]
          },
          "metadata": {},
          "execution_count": 56
        }
      ]
    },
    {
      "cell_type": "code",
      "source": [
        "compoundInterestLambda(1000,0.08,5,20)"
      ],
      "metadata": {
        "id": "cclSX_BQkafl",
        "outputId": "5acfcbc6-176d-4a53-c361-2f77a19c0c75",
        "colab": {
          "base_uri": "https://localhost:8080/"
        }
      },
      "execution_count": 57,
      "outputs": [
        {
          "output_type": "execute_result",
          "data": {
            "text/plain": [
              "4890.7"
            ]
          },
          "metadata": {},
          "execution_count": 57
        }
      ]
    },
    {
      "cell_type": "code",
      "source": [
        "compoundInterestLambda(100000,0.02,0,36)"
      ],
      "metadata": {
        "id": "PWxXqvD9FzTr",
        "outputId": "2e03b172-e003-48f7-8e4c-fc92ec6a4acc",
        "colab": {
          "base_uri": "https://localhost:8080/"
        }
      },
      "execution_count": 58,
      "outputs": [
        {
          "output_type": "execute_result",
          "data": {
            "text/plain": [
              "100000"
            ]
          },
          "metadata": {},
          "execution_count": 58
        }
      ]
    },
    {
      "cell_type": "code",
      "source": [
        "def compoundInterest(principal, rate, n,timeY):\n",
        "  \"\"\" Compute the compound interest of a principal amount based on the interest\n",
        "      rate, number of times the interest is compounded and time (in years)\n",
        "      \n",
        "      Args:\n",
        "          principal: principal amount\n",
        "          rate: interest rate\n",
        "          n: number of times the interest is compounded\n",
        "          time: amount of time (in years) the interest will take place\n",
        "      Returns:\n",
        "          The compound interest on the principal amount\n",
        "  \"\"\"\n",
        "  if n > 0 and rate != 0:\n",
        "    compoundInterest = principal*(1+rate/n)**(n*timeY)\n",
        "  else:\n",
        "    return principal\n",
        "  return round(compoundInterest,2)\n",
        "\n",
        "def test_compoundInterest():\n",
        "  assert compoundInterest(5000,0.05,12,10) == 8235.05\n",
        "  assert compoundInterest(1000,0.08,5,20) == 4890.7\n",
        "  assert compoundInterest(100000,0.02,0,36) == 100000\n",
        "  assert not compoundInterest(600,0.05,10,40) == 750\n",
        "\n",
        "test_compoundInterest()"
      ],
      "metadata": {
        "id": "6HRJD2bckeDf"
      },
      "execution_count": 59,
      "outputs": []
    },
    {
      "cell_type": "markdown",
      "metadata": {
        "id": "vhtFxPn6aO0z"
      },
      "source": [
        "#### Problem 3 -- Apply the process to create a amortized loan payment function."
      ]
    },
    {
      "cell_type": "code",
      "execution_count": 60,
      "metadata": {
        "id": "9cnEHgAuaO00",
        "outputId": "db6853b5-f3b9-4577-a2e7-a92d708f7c1a",
        "colab": {
          "base_uri": "https://localhost:8080/"
        }
      },
      "outputs": [
        {
          "output_type": "execute_result",
          "data": {
            "text/plain": [
              "49098.31"
            ]
          },
          "metadata": {},
          "execution_count": 60
        }
      ],
      "source": [
        "P,i,n = 980000, 0.0286, 30\n",
        "R = (P*i)/(1-(1+i)**-n)\n",
        "round(R,2)"
      ]
    },
    {
      "cell_type": "code",
      "source": [
        "P,i,n = 2000000, 0.05, 20\n",
        "R = (P*i)/(1-(1+i)**-n)\n",
        "round(R,2)"
      ],
      "metadata": {
        "id": "Ec2Gutaz3P3e",
        "outputId": "8949c159-e29d-4b0f-d0a2-ab1078b8a561",
        "colab": {
          "base_uri": "https://localhost:8080/"
        }
      },
      "execution_count": 61,
      "outputs": [
        {
          "output_type": "execute_result",
          "data": {
            "text/plain": [
              "160485.17"
            ]
          },
          "metadata": {},
          "execution_count": 61
        }
      ]
    },
    {
      "cell_type": "code",
      "source": [
        "P,i,n = 5000000, 0, 28\n",
        "R = (P*i)/(1-(1+i)**-n)\n",
        "round(R,2)"
      ],
      "metadata": {
        "id": "kFz_WwbYGL_1",
        "outputId": "0bd20e4b-812a-4fa3-99ce-3e8f38717d4d",
        "colab": {
          "base_uri": "https://localhost:8080/",
          "height": 200
        }
      },
      "execution_count": 62,
      "outputs": [
        {
          "output_type": "error",
          "ename": "ZeroDivisionError",
          "evalue": "ignored",
          "traceback": [
            "\u001b[0;31m---------------------------------------------------------------------------\u001b[0m",
            "\u001b[0;31mZeroDivisionError\u001b[0m                         Traceback (most recent call last)",
            "\u001b[0;32m<ipython-input-62-759989c17ca4>\u001b[0m in \u001b[0;36m<module>\u001b[0;34m\u001b[0m\n\u001b[1;32m      1\u001b[0m \u001b[0mP\u001b[0m\u001b[0;34m,\u001b[0m\u001b[0mi\u001b[0m\u001b[0;34m,\u001b[0m\u001b[0mn\u001b[0m \u001b[0;34m=\u001b[0m \u001b[0;36m5000000\u001b[0m\u001b[0;34m,\u001b[0m \u001b[0;36m0\u001b[0m\u001b[0;34m,\u001b[0m \u001b[0;36m28\u001b[0m\u001b[0;34m\u001b[0m\u001b[0;34m\u001b[0m\u001b[0m\n\u001b[0;32m----> 2\u001b[0;31m \u001b[0mR\u001b[0m \u001b[0;34m=\u001b[0m \u001b[0;34m(\u001b[0m\u001b[0mP\u001b[0m\u001b[0;34m*\u001b[0m\u001b[0mi\u001b[0m\u001b[0;34m)\u001b[0m\u001b[0;34m/\u001b[0m\u001b[0;34m(\u001b[0m\u001b[0;36m1\u001b[0m\u001b[0;34m-\u001b[0m\u001b[0;34m(\u001b[0m\u001b[0;36m1\u001b[0m\u001b[0;34m+\u001b[0m\u001b[0mi\u001b[0m\u001b[0;34m)\u001b[0m\u001b[0;34m**\u001b[0m\u001b[0;34m-\u001b[0m\u001b[0mn\u001b[0m\u001b[0;34m)\u001b[0m\u001b[0;34m\u001b[0m\u001b[0;34m\u001b[0m\u001b[0m\n\u001b[0m\u001b[1;32m      3\u001b[0m \u001b[0mround\u001b[0m\u001b[0;34m(\u001b[0m\u001b[0mR\u001b[0m\u001b[0;34m,\u001b[0m\u001b[0;36m2\u001b[0m\u001b[0;34m)\u001b[0m\u001b[0;34m\u001b[0m\u001b[0;34m\u001b[0m\u001b[0m\n",
            "\u001b[0;31mZeroDivisionError\u001b[0m: float division by zero"
          ]
        }
      ]
    },
    {
      "cell_type": "code",
      "source": [
        "amortizedLoanLambda = lambda P,i,n: round((P*i)/(1-(1+i)**-n),2) if i > 0 else P\n",
        "amortizedLoanLambda(980000, 0.0286, 30)"
      ],
      "metadata": {
        "id": "TtaFy5iH3dEf",
        "outputId": "73da14ec-022d-4fef-f833-5c71fea56c97",
        "colab": {
          "base_uri": "https://localhost:8080/"
        }
      },
      "execution_count": 63,
      "outputs": [
        {
          "output_type": "execute_result",
          "data": {
            "text/plain": [
              "49098.31"
            ]
          },
          "metadata": {},
          "execution_count": 63
        }
      ]
    },
    {
      "cell_type": "code",
      "source": [
        "amortizedLoanLambda(2000000, 0.05, 20)"
      ],
      "metadata": {
        "id": "u8XVZm0v3srs",
        "outputId": "3218a065-e3ff-4bc9-8e60-1fbbf4a5f062",
        "colab": {
          "base_uri": "https://localhost:8080/"
        }
      },
      "execution_count": 64,
      "outputs": [
        {
          "output_type": "execute_result",
          "data": {
            "text/plain": [
              "160485.17"
            ]
          },
          "metadata": {},
          "execution_count": 64
        }
      ]
    },
    {
      "cell_type": "code",
      "source": [
        "amortizedLoanLambda(5000000, 0, 28)"
      ],
      "metadata": {
        "id": "gAYZB0ERHDln",
        "outputId": "2cd961ee-8f43-4b85-ade1-d0f439f9c4b7",
        "colab": {
          "base_uri": "https://localhost:8080/"
        }
      },
      "execution_count": 65,
      "outputs": [
        {
          "output_type": "execute_result",
          "data": {
            "text/plain": [
              "5000000"
            ]
          },
          "metadata": {},
          "execution_count": 65
        }
      ]
    },
    {
      "cell_type": "code",
      "source": [
        "def amortizedLoanPayment(borrowed, rate, n):\n",
        "  \"\"\" Compute the amortized loan payment amount\n",
        "      \n",
        "      Args:\n",
        "          borrowed: amount borrowed\n",
        "          rate: interest rate per period\n",
        "          n: number of payments\n",
        "      Returns:\n",
        "          The annual ammortized loan payment\n",
        "  \"\"\"\n",
        "  if rate > 0:\n",
        "    loanPayment = (borrowed*rate)/(1-(1+rate)**-n)\n",
        "  else:\n",
        "    return borrowed\n",
        "  return round(loanPayment,2)\n",
        "\n",
        "def test_amortizedLoanPayment():\n",
        "  assert amortizedLoanPayment(980000, 0.0286, 30) == 49098.31\n",
        "  assert amortizedLoanPayment(2000000, 0.05, 20) == 160485.17\n",
        "  assert amortizedLoanPayment(5000000, 0, 28) == 5000000\n",
        "  assert not amortizedLoanPayment(6000000,0.532,40) == 750500.32\n",
        "\n",
        "test_amortizedLoanPayment()"
      ],
      "metadata": {
        "id": "ffja4oGv3wT0"
      },
      "execution_count": 66,
      "outputs": []
    },
    {
      "cell_type": "markdown",
      "metadata": {
        "id": "Cj8uFpsjaO01"
      },
      "source": [
        "#### Problem 4 -- Apply the process to create a remaining balance function"
      ]
    },
    {
      "cell_type": "code",
      "execution_count": 67,
      "metadata": {
        "id": "I9qJZ2StaO01",
        "outputId": "8647d7c4-e3e1-41fa-c581-433183e17cb6",
        "colab": {
          "base_uri": "https://localhost:8080/"
        }
      },
      "outputs": [
        {
          "output_type": "execute_result",
          "data": {
            "text/plain": [
              "736361.06"
            ]
          },
          "metadata": {},
          "execution_count": 67
        }
      ],
      "source": [
        "R,i,n,x = 75000, 0.08,50,30\n",
        "B = R*(1-(1+i)**-(n-x))/i\n",
        "round(B,2)"
      ]
    },
    {
      "cell_type": "code",
      "source": [
        "R,i,n,x = 100000, 0.02,36,12\n",
        "B = R*(1-(1+i)**-(n-x))/i\n",
        "round(B,2)"
      ],
      "metadata": {
        "id": "2TLt5lmD7VDZ",
        "outputId": "22be8e05-dee3-49c1-f5cc-8718b0092530",
        "colab": {
          "base_uri": "https://localhost:8080/"
        }
      },
      "execution_count": 68,
      "outputs": [
        {
          "output_type": "execute_result",
          "data": {
            "text/plain": [
              "1891392.56"
            ]
          },
          "metadata": {},
          "execution_count": 68
        }
      ]
    },
    {
      "cell_type": "code",
      "source": [
        "R,i,n,x = 600000, 0.02,0,15\n",
        "B = R*(1-(1+i)**-(n-x))/i\n",
        "round(B,2)"
      ],
      "metadata": {
        "id": "MJ8bt793Hkbq",
        "outputId": "4351d070-1197-4309-dac7-5ace11baf521",
        "colab": {
          "base_uri": "https://localhost:8080/"
        }
      },
      "execution_count": 69,
      "outputs": [
        {
          "output_type": "execute_result",
          "data": {
            "text/plain": [
              "-10376050.15"
            ]
          },
          "metadata": {},
          "execution_count": 69
        }
      ]
    },
    {
      "cell_type": "code",
      "source": [
        "R,i,n,x = 700000, 0.0,36,36\n",
        "B = R*(1-(1+i)**-(n-x))/i\n",
        "round(B,2)"
      ],
      "metadata": {
        "id": "kudNdsxxIDGr",
        "outputId": "222d6d93-d9ce-41e3-bcad-ded327420bd1",
        "colab": {
          "base_uri": "https://localhost:8080/",
          "height": 200
        }
      },
      "execution_count": 70,
      "outputs": [
        {
          "output_type": "error",
          "ename": "ZeroDivisionError",
          "evalue": "ignored",
          "traceback": [
            "\u001b[0;31m---------------------------------------------------------------------------\u001b[0m",
            "\u001b[0;31mZeroDivisionError\u001b[0m                         Traceback (most recent call last)",
            "\u001b[0;32m<ipython-input-70-8f60291532ae>\u001b[0m in \u001b[0;36m<module>\u001b[0;34m\u001b[0m\n\u001b[1;32m      1\u001b[0m \u001b[0mR\u001b[0m\u001b[0;34m,\u001b[0m\u001b[0mi\u001b[0m\u001b[0;34m,\u001b[0m\u001b[0mn\u001b[0m\u001b[0;34m,\u001b[0m\u001b[0mx\u001b[0m \u001b[0;34m=\u001b[0m \u001b[0;36m700000\u001b[0m\u001b[0;34m,\u001b[0m \u001b[0;36m0.0\u001b[0m\u001b[0;34m,\u001b[0m\u001b[0;36m36\u001b[0m\u001b[0;34m,\u001b[0m\u001b[0;36m36\u001b[0m\u001b[0;34m\u001b[0m\u001b[0;34m\u001b[0m\u001b[0m\n\u001b[0;32m----> 2\u001b[0;31m \u001b[0mB\u001b[0m \u001b[0;34m=\u001b[0m \u001b[0mR\u001b[0m\u001b[0;34m*\u001b[0m\u001b[0;34m(\u001b[0m\u001b[0;36m1\u001b[0m\u001b[0;34m-\u001b[0m\u001b[0;34m(\u001b[0m\u001b[0;36m1\u001b[0m\u001b[0;34m+\u001b[0m\u001b[0mi\u001b[0m\u001b[0;34m)\u001b[0m\u001b[0;34m**\u001b[0m\u001b[0;34m-\u001b[0m\u001b[0;34m(\u001b[0m\u001b[0mn\u001b[0m\u001b[0;34m-\u001b[0m\u001b[0mx\u001b[0m\u001b[0;34m)\u001b[0m\u001b[0;34m)\u001b[0m\u001b[0;34m/\u001b[0m\u001b[0mi\u001b[0m\u001b[0;34m\u001b[0m\u001b[0;34m\u001b[0m\u001b[0m\n\u001b[0m\u001b[1;32m      3\u001b[0m \u001b[0mround\u001b[0m\u001b[0;34m(\u001b[0m\u001b[0mB\u001b[0m\u001b[0;34m,\u001b[0m\u001b[0;36m2\u001b[0m\u001b[0;34m)\u001b[0m\u001b[0;34m\u001b[0m\u001b[0;34m\u001b[0m\u001b[0m\n",
            "\u001b[0;31mZeroDivisionError\u001b[0m: float division by zero"
          ]
        }
      ]
    },
    {
      "cell_type": "code",
      "source": [
        "remianingBalanceLambda = lambda R,i,n,x: round(R*(1-(1+i)**-(n-x))/i,2) if i > 0 and n >= x else R\n",
        "remianingBalanceLambda(75000, 0.08,50,30)"
      ],
      "metadata": {
        "id": "_TQhWeAm8M_5",
        "outputId": "edd9a9a3-3b1c-4bbe-9b84-3da53db1bc0d",
        "colab": {
          "base_uri": "https://localhost:8080/"
        }
      },
      "execution_count": 71,
      "outputs": [
        {
          "output_type": "execute_result",
          "data": {
            "text/plain": [
              "736361.06"
            ]
          },
          "metadata": {},
          "execution_count": 71
        }
      ]
    },
    {
      "cell_type": "code",
      "source": [
        "remianingBalanceLambda(100000, 0.02,36,12)"
      ],
      "metadata": {
        "id": "9PVqRDXB8kpl",
        "outputId": "3e7bb8f6-ed29-4b41-c541-98c155abf95f",
        "colab": {
          "base_uri": "https://localhost:8080/"
        }
      },
      "execution_count": 72,
      "outputs": [
        {
          "output_type": "execute_result",
          "data": {
            "text/plain": [
              "1891392.56"
            ]
          },
          "metadata": {},
          "execution_count": 72
        }
      ]
    },
    {
      "cell_type": "code",
      "source": [
        "remianingBalanceLambda(600000, 0.02,0,15)"
      ],
      "metadata": {
        "id": "rMsUeukhIanc",
        "outputId": "aa4285cd-d1b3-4b0d-d5a2-949d94e3c54e",
        "colab": {
          "base_uri": "https://localhost:8080/"
        }
      },
      "execution_count": 73,
      "outputs": [
        {
          "output_type": "execute_result",
          "data": {
            "text/plain": [
              "600000"
            ]
          },
          "metadata": {},
          "execution_count": 73
        }
      ]
    },
    {
      "cell_type": "code",
      "source": [
        "remianingBalanceLambda(700000, 0.0,36,36)"
      ],
      "metadata": {
        "id": "_LG5u4irIkLl",
        "outputId": "3b028835-7f0a-47a2-95ee-ad767f8572e9",
        "colab": {
          "base_uri": "https://localhost:8080/"
        }
      },
      "execution_count": 75,
      "outputs": [
        {
          "output_type": "execute_result",
          "data": {
            "text/plain": [
              "700000"
            ]
          },
          "metadata": {},
          "execution_count": 75
        }
      ]
    },
    {
      "cell_type": "code",
      "source": [
        "def remianingBalance(regularPayments, rate, numPayments, paymentMade):\n",
        "  \"\"\" Compute the remaining balance\n",
        "      \n",
        "      Args:\n",
        "          regularPayments: amount borrowed\n",
        "          rate: interest rate per period\n",
        "          numPayments: number of payments\n",
        "          paymentMade: number of payments already made\n",
        "      Returns:\n",
        "          The remaining balance\n",
        "  \"\"\"\n",
        "\n",
        "  if rate > 0 and numPayments >= paymentMade:\n",
        "    remBalance = regularPayments*(1-(1+rate)**-(numPayments-paymentMade))/rate\n",
        "  else:\n",
        "    return regularPayments\n",
        "  return round(remBalance,2)\n",
        "\n",
        "def test_remianingBalance():\n",
        "  assert remianingBalance(75000, 0.08,50,30) == 736361.06\n",
        "  assert remianingBalance(100000, 0.02,36,12) == 1891392.56\n",
        "  assert remianingBalance(600000, 0.02,0,15) == 600000\n",
        "  assert remianingBalance(700000, 0.0,36,36) == 700000\n",
        "  assert not remianingBalance(43000,0.01,40,48) == 21200.50\n",
        "\n",
        "test_remianingBalance()"
      ],
      "metadata": {
        "id": "Z59jLFpC85lq"
      },
      "execution_count": 74,
      "outputs": []
    }
  ],
  "metadata": {
    "kernelspec": {
      "display_name": "Python 3",
      "language": "python",
      "name": "python3"
    },
    "language_info": {
      "codemirror_mode": {
        "name": "ipython",
        "version": 3
      },
      "file_extension": ".py",
      "mimetype": "text/x-python",
      "name": "python",
      "nbconvert_exporter": "python",
      "pygments_lexer": "ipython3",
      "version": "3.7.2"
    },
    "colab": {
      "provenance": [],
      "include_colab_link": true
    }
  },
  "nbformat": 4,
  "nbformat_minor": 0
}