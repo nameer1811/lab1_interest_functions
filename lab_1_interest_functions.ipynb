{
  "cells": [
    {
      "cell_type": "markdown",
      "metadata": {
        "id": "view-in-github",
        "colab_type": "text"
      },
      "source": [
        "<a href=\"https://colab.research.google.com/github/nameer1811/lab1_interest_functions/blob/master/lab_1_interest_functions.ipynb\" target=\"_parent\"><img src=\"https://colab.research.google.com/assets/colab-badge.svg\" alt=\"Open In Colab\"/></a>"
      ]
    },
    {
      "cell_type": "markdown",
      "metadata": {
        "id": "23NDkwGlaO0n"
      },
      "source": [
        "## Lab 1 - Compound Interest Functions\n",
        "\n",
        "Below you will find a table of important formulae related to compound interest.  \n",
        "\n",
        "<img src=\"https://www.dummies.com/wp-content/uploads/251689.image0.jpg\" alt=\"image0.jpg\" width=\"400\" height=\"319\">\n",
        "\n",
        "In this lab, you will create functions for each of these using (and documenting) the following workflow.\n",
        "\n",
        "1. Work out the correct answer for a few examples. *Hint* Search for e.g. \"worked out compound interest examples\" on the web.\n",
        "2. Write a `lambda` function and test this function on your test cases.\n",
        "3. Convert the `lambda` function to a `def` statement with an informative doc string that follows the [Google formating rules](https://google.github.io/styleguide/pyguide.html#383-functions-and-methods).\n",
        "4. Write an automated test function (using your previous examples) that will test your `def` statement function each time the code is executed."
      ]
    },
    {
      "cell_type": "markdown",
      "metadata": {
        "id": "-cMBBFHJaO0q"
      },
      "source": [
        "#### Problem 1 -- Apply the process to create a simple interest functions."
      ]
    },
    {
      "cell_type": "code",
      "execution_count": 1,
      "metadata": {
        "id": "qe9Ggf4EaO0r",
        "outputId": "f0eb2136-2178-4937-fd84-c28df7978aae",
        "colab": {
          "base_uri": "https://localhost:8080/"
        }
      },
      "outputs": [
        {
          "output_type": "execute_result",
          "data": {
            "text/plain": [
              "40.0"
            ]
          },
          "metadata": {},
          "execution_count": 1
        }
      ],
      "source": [
        "P,r,t = 500,0.04,2\n",
        "I = P*r*t\n",
        "I"
      ]
    },
    {
      "cell_type": "code",
      "source": [
        "P,r,t = 1200,0.06,4/12\n",
        "I = P*r*t\n",
        "I"
      ],
      "metadata": {
        "id": "ztIxEpt0gfv8",
        "outputId": "75f37693-0493-409e-ab48-9749df03e0f4",
        "colab": {
          "base_uri": "https://localhost:8080/"
        }
      },
      "execution_count": 2,
      "outputs": [
        {
          "output_type": "execute_result",
          "data": {
            "text/plain": [
              "24.0"
            ]
          },
          "metadata": {},
          "execution_count": 2
        }
      ]
    },
    {
      "cell_type": "code",
      "source": [
        "simpleInterestLambda = lambda P,r,t: P*r*t\n",
        "simpleInterestLambda(500,0.04,2)"
      ],
      "metadata": {
        "id": "CyywOcrOib_Q",
        "outputId": "38e74c25-3663-4638-bafa-8312e0cebf35",
        "colab": {
          "base_uri": "https://localhost:8080/"
        }
      },
      "execution_count": 3,
      "outputs": [
        {
          "output_type": "execute_result",
          "data": {
            "text/plain": [
              "40.0"
            ]
          },
          "metadata": {},
          "execution_count": 3
        }
      ]
    },
    {
      "cell_type": "code",
      "source": [
        "simpleInterestLambda(1200,0.06,4/12)"
      ],
      "metadata": {
        "id": "DsWoCW2kgpyD",
        "outputId": "d8181499-0cba-4b35-f2c3-c1e62e00e33f",
        "colab": {
          "base_uri": "https://localhost:8080/"
        }
      },
      "execution_count": 4,
      "outputs": [
        {
          "output_type": "execute_result",
          "data": {
            "text/plain": [
              "24.0"
            ]
          },
          "metadata": {},
          "execution_count": 4
        }
      ]
    },
    {
      "cell_type": "code",
      "source": [
        "simpleInterestLambda(13000,0.0,15)"
      ],
      "metadata": {
        "id": "zN7WIreuKO1j",
        "outputId": "a5265eb9-2aca-4e33-86bb-d268fbf23649",
        "colab": {
          "base_uri": "https://localhost:8080/"
        }
      },
      "execution_count": 5,
      "outputs": [
        {
          "output_type": "execute_result",
          "data": {
            "text/plain": [
              "0.0"
            ]
          },
          "metadata": {},
          "execution_count": 5
        }
      ]
    },
    {
      "cell_type": "code",
      "source": [
        "def simpleInterest(principal, rate, timeY):\n",
        "  \"\"\" Compute the simple interest of a principal amount based on the interest\n",
        "      rate and time (in years)\n",
        "      \n",
        "      Args:\n",
        "          principal: principal amount\n",
        "          rate: interest rate\n",
        "          time: amount of time (in years) the interest will take place\n",
        "      Returns:\n",
        "          The simple interest on the principal amount\n",
        "  \"\"\"\n",
        "  simpleInterest = principal*rate*timeY\n",
        "  return simpleInterest\n",
        "\n",
        "simpleInterest(1200,0.06,4/12)"
      ],
      "metadata": {
        "id": "JXRl_tjOg-az",
        "outputId": "23afef8d-eb68-466b-96b2-28d951749e36",
        "colab": {
          "base_uri": "https://localhost:8080/"
        }
      },
      "execution_count": 6,
      "outputs": [
        {
          "output_type": "execute_result",
          "data": {
            "text/plain": [
              "24.0"
            ]
          },
          "metadata": {},
          "execution_count": 6
        }
      ]
    },
    {
      "cell_type": "code",
      "source": [
        "def test_simpleInterest():\n",
        "  assert simpleInterest(1200,0.06,4/12) == 24\n",
        "  assert simpleInterest(500,0.04,2) == 40\n",
        "  assert not simpleInterest(600,0.05,10) == 50\n",
        "\n",
        "test_simpleInterest()"
      ],
      "metadata": {
        "id": "Vsi8myfxiRFv"
      },
      "execution_count": 7,
      "outputs": []
    },
    {
      "cell_type": "markdown",
      "metadata": {
        "id": "ufp0ql4GaO0w"
      },
      "source": [
        "#### Problem 2 -- Apply the process to create a compound interest functions."
      ]
    },
    {
      "cell_type": "code",
      "execution_count": 8,
      "metadata": {
        "id": "QFm8idtwaO0y",
        "outputId": "868a11f6-9cb9-4da4-d0a8-57edeadfb2fd",
        "colab": {
          "base_uri": "https://localhost:8080/"
        }
      },
      "outputs": [
        {
          "output_type": "execute_result",
          "data": {
            "text/plain": [
              "8235.05"
            ]
          },
          "metadata": {},
          "execution_count": 8
        }
      ],
      "source": [
        "P,r,n,t = 5000,0.05,12,10\n",
        "A = P*(1+r/n)**(n*t)\n",
        "round(A,2)"
      ]
    },
    {
      "cell_type": "code",
      "source": [
        "P,r,n,t = 1000,0.08,5,20\n",
        "A = P*(1+r/n)**(n*t)\n",
        "round(A,2)"
      ],
      "metadata": {
        "id": "QWiC2duKj_EV",
        "outputId": "bf59f7ff-d4f6-4860-f82d-0e0931be1f53",
        "colab": {
          "base_uri": "https://localhost:8080/"
        }
      },
      "execution_count": 9,
      "outputs": [
        {
          "output_type": "execute_result",
          "data": {
            "text/plain": [
              "4890.7"
            ]
          },
          "metadata": {},
          "execution_count": 9
        }
      ]
    },
    {
      "cell_type": "code",
      "source": [
        "P,r,n,t = 100000,0.02,0,36\n",
        "A = P*(1+r/n)**(n*t)\n",
        "round(A,2)"
      ],
      "metadata": {
        "id": "F01GE811FLQa",
        "outputId": "9ccb57a7-b89d-4b3f-c32f-fb7ff9ba9fdb",
        "colab": {
          "base_uri": "https://localhost:8080/",
          "height": 200
        }
      },
      "execution_count": 10,
      "outputs": [
        {
          "output_type": "error",
          "ename": "ZeroDivisionError",
          "evalue": "ignored",
          "traceback": [
            "\u001b[0;31m---------------------------------------------------------------------------\u001b[0m",
            "\u001b[0;31mZeroDivisionError\u001b[0m                         Traceback (most recent call last)",
            "\u001b[0;32m<ipython-input-10-1788d4fee90c>\u001b[0m in \u001b[0;36m<module>\u001b[0;34m\u001b[0m\n\u001b[1;32m      1\u001b[0m \u001b[0mP\u001b[0m\u001b[0;34m,\u001b[0m\u001b[0mr\u001b[0m\u001b[0;34m,\u001b[0m\u001b[0mn\u001b[0m\u001b[0;34m,\u001b[0m\u001b[0mt\u001b[0m \u001b[0;34m=\u001b[0m \u001b[0;36m100000\u001b[0m\u001b[0;34m,\u001b[0m\u001b[0;36m0.02\u001b[0m\u001b[0;34m,\u001b[0m\u001b[0;36m0\u001b[0m\u001b[0;34m,\u001b[0m\u001b[0;36m36\u001b[0m\u001b[0;34m\u001b[0m\u001b[0;34m\u001b[0m\u001b[0m\n\u001b[0;32m----> 2\u001b[0;31m \u001b[0mA\u001b[0m \u001b[0;34m=\u001b[0m \u001b[0mP\u001b[0m\u001b[0;34m*\u001b[0m\u001b[0;34m(\u001b[0m\u001b[0;36m1\u001b[0m\u001b[0;34m+\u001b[0m\u001b[0mr\u001b[0m\u001b[0;34m/\u001b[0m\u001b[0mn\u001b[0m\u001b[0;34m)\u001b[0m\u001b[0;34m**\u001b[0m\u001b[0;34m(\u001b[0m\u001b[0mn\u001b[0m\u001b[0;34m*\u001b[0m\u001b[0mt\u001b[0m\u001b[0;34m)\u001b[0m\u001b[0;34m\u001b[0m\u001b[0;34m\u001b[0m\u001b[0m\n\u001b[0m\u001b[1;32m      3\u001b[0m \u001b[0mround\u001b[0m\u001b[0;34m(\u001b[0m\u001b[0mA\u001b[0m\u001b[0;34m,\u001b[0m\u001b[0;36m2\u001b[0m\u001b[0;34m)\u001b[0m\u001b[0;34m\u001b[0m\u001b[0;34m\u001b[0m\u001b[0m\n",
            "\u001b[0;31mZeroDivisionError\u001b[0m: float division by zero"
          ]
        }
      ]
    },
    {
      "cell_type": "code",
      "source": [
        "compoundInterestLambda = lambda P,r,n,t: round(P*(1+r/n)**(n*t),2) if n > 0 else 0\n",
        "compoundInterestLambda(5000,0.05,12,10)"
      ],
      "metadata": {
        "id": "pThkfgSikIAL",
        "outputId": "6b20ee2b-e7ea-417f-fa4a-762d387a23be",
        "colab": {
          "base_uri": "https://localhost:8080/"
        }
      },
      "execution_count": 11,
      "outputs": [
        {
          "output_type": "execute_result",
          "data": {
            "text/plain": [
              "8235.05"
            ]
          },
          "metadata": {},
          "execution_count": 11
        }
      ]
    },
    {
      "cell_type": "code",
      "source": [
        "compoundInterestLambda(1000,0.08,5,20)"
      ],
      "metadata": {
        "id": "cclSX_BQkafl",
        "outputId": "92d41c6f-d389-40d4-fa39-b09ea63640d5",
        "colab": {
          "base_uri": "https://localhost:8080/"
        }
      },
      "execution_count": 12,
      "outputs": [
        {
          "output_type": "execute_result",
          "data": {
            "text/plain": [
              "4890.7"
            ]
          },
          "metadata": {},
          "execution_count": 12
        }
      ]
    },
    {
      "cell_type": "code",
      "source": [
        "compoundInterestLambda(100000,0.02,0,36)"
      ],
      "metadata": {
        "id": "PWxXqvD9FzTr",
        "outputId": "bf65881c-32a0-44b3-dbc2-1a4274889890",
        "colab": {
          "base_uri": "https://localhost:8080/"
        }
      },
      "execution_count": 13,
      "outputs": [
        {
          "output_type": "execute_result",
          "data": {
            "text/plain": [
              "0"
            ]
          },
          "metadata": {},
          "execution_count": 13
        }
      ]
    },
    {
      "cell_type": "code",
      "source": [
        "def compoundInterest(principal, rate, n,timeY):\n",
        "  \"\"\" Compute the compound interest of a principal amount based on the interest\n",
        "      rate, number of times the interest is compounded and time (in years)\n",
        "      \n",
        "      Args:\n",
        "          principal: principal amount\n",
        "          rate: interest rate\n",
        "          n: number of times the interest is compounded\n",
        "          time: amount of time (in years) the interest will take place\n",
        "      Returns:\n",
        "          The compound interest on the principal amount\n",
        "  \"\"\"\n",
        "  if n > 0:\n",
        "    compoundInterest = principal*(1+rate/n)**(n*timeY)\n",
        "  else:\n",
        "    return 0\n",
        "  return round(compoundInterest,2)\n",
        "\n",
        "compoundInterest(1000,0.08,5,20)"
      ],
      "metadata": {
        "id": "6HRJD2bckeDf",
        "outputId": "eb439979-812a-482a-f647-889761b1c255",
        "colab": {
          "base_uri": "https://localhost:8080/"
        }
      },
      "execution_count": 14,
      "outputs": [
        {
          "output_type": "execute_result",
          "data": {
            "text/plain": [
              "4890.7"
            ]
          },
          "metadata": {},
          "execution_count": 14
        }
      ]
    },
    {
      "cell_type": "code",
      "source": [
        "compoundInterest(100000,0.02,0,36)"
      ],
      "metadata": {
        "id": "sZFfEKrFGDsF",
        "outputId": "af84daa5-1a5c-4097-e4cb-d240b46b8c25",
        "colab": {
          "base_uri": "https://localhost:8080/"
        }
      },
      "execution_count": 15,
      "outputs": [
        {
          "output_type": "execute_result",
          "data": {
            "text/plain": [
              "0"
            ]
          },
          "metadata": {},
          "execution_count": 15
        }
      ]
    },
    {
      "cell_type": "code",
      "source": [
        "def test_compoundInterest():\n",
        "  assert compoundInterest(5000,0.05,12,10) == 8235.05\n",
        "  assert compoundInterest(1000,0.08,5,20) == 4890.7\n",
        "  assert compoundInterest(100000,0.02,0,36) == 0\n",
        "  assert not compoundInterest(600,0.05,10,40) == 750\n",
        "\n",
        "test_compoundInterest()"
      ],
      "metadata": {
        "id": "nsQpSMQ5lCOg"
      },
      "execution_count": 16,
      "outputs": []
    },
    {
      "cell_type": "markdown",
      "metadata": {
        "id": "vhtFxPn6aO0z"
      },
      "source": [
        "#### Problem 3 -- Apply the process to create a amortized loan payment function."
      ]
    },
    {
      "cell_type": "code",
      "execution_count": 17,
      "metadata": {
        "id": "9cnEHgAuaO00",
        "outputId": "09323d13-7a4f-498e-ac0c-cb2878a95aeb",
        "colab": {
          "base_uri": "https://localhost:8080/"
        }
      },
      "outputs": [
        {
          "output_type": "execute_result",
          "data": {
            "text/plain": [
              "49098.31"
            ]
          },
          "metadata": {},
          "execution_count": 17
        }
      ],
      "source": [
        "P,i,n = 980000, 0.0286, 30\n",
        "R = (P*i)/(1-(1+i)**-n)\n",
        "round(R,2)"
      ]
    },
    {
      "cell_type": "code",
      "source": [
        "P,i,n = 2000000, 0.05, 20\n",
        "R = (P*i)/(1-(1+i)**-n)\n",
        "round(R,2)"
      ],
      "metadata": {
        "id": "Ec2Gutaz3P3e",
        "outputId": "bad06fb5-44e4-4aee-8129-31499ed58930",
        "colab": {
          "base_uri": "https://localhost:8080/"
        }
      },
      "execution_count": 18,
      "outputs": [
        {
          "output_type": "execute_result",
          "data": {
            "text/plain": [
              "160485.17"
            ]
          },
          "metadata": {},
          "execution_count": 18
        }
      ]
    },
    {
      "cell_type": "code",
      "source": [
        "P,i,n = 5000000, 0, 28\n",
        "R = (P*i)/(1-(1+i)**-n)\n",
        "round(R,2)"
      ],
      "metadata": {
        "id": "kFz_WwbYGL_1",
        "outputId": "f8269d4b-dd4e-4684-af10-58b0ab3f24bf",
        "colab": {
          "base_uri": "https://localhost:8080/",
          "height": 200
        }
      },
      "execution_count": 19,
      "outputs": [
        {
          "output_type": "error",
          "ename": "ZeroDivisionError",
          "evalue": "ignored",
          "traceback": [
            "\u001b[0;31m---------------------------------------------------------------------------\u001b[0m",
            "\u001b[0;31mZeroDivisionError\u001b[0m                         Traceback (most recent call last)",
            "\u001b[0;32m<ipython-input-19-759989c17ca4>\u001b[0m in \u001b[0;36m<module>\u001b[0;34m\u001b[0m\n\u001b[1;32m      1\u001b[0m \u001b[0mP\u001b[0m\u001b[0;34m,\u001b[0m\u001b[0mi\u001b[0m\u001b[0;34m,\u001b[0m\u001b[0mn\u001b[0m \u001b[0;34m=\u001b[0m \u001b[0;36m5000000\u001b[0m\u001b[0;34m,\u001b[0m \u001b[0;36m0\u001b[0m\u001b[0;34m,\u001b[0m \u001b[0;36m28\u001b[0m\u001b[0;34m\u001b[0m\u001b[0;34m\u001b[0m\u001b[0m\n\u001b[0;32m----> 2\u001b[0;31m \u001b[0mR\u001b[0m \u001b[0;34m=\u001b[0m \u001b[0;34m(\u001b[0m\u001b[0mP\u001b[0m\u001b[0;34m*\u001b[0m\u001b[0mi\u001b[0m\u001b[0;34m)\u001b[0m\u001b[0;34m/\u001b[0m\u001b[0;34m(\u001b[0m\u001b[0;36m1\u001b[0m\u001b[0;34m-\u001b[0m\u001b[0;34m(\u001b[0m\u001b[0;36m1\u001b[0m\u001b[0;34m+\u001b[0m\u001b[0mi\u001b[0m\u001b[0;34m)\u001b[0m\u001b[0;34m**\u001b[0m\u001b[0;34m-\u001b[0m\u001b[0mn\u001b[0m\u001b[0;34m)\u001b[0m\u001b[0;34m\u001b[0m\u001b[0;34m\u001b[0m\u001b[0m\n\u001b[0m\u001b[1;32m      3\u001b[0m \u001b[0mround\u001b[0m\u001b[0;34m(\u001b[0m\u001b[0mR\u001b[0m\u001b[0;34m,\u001b[0m\u001b[0;36m2\u001b[0m\u001b[0;34m)\u001b[0m\u001b[0;34m\u001b[0m\u001b[0;34m\u001b[0m\u001b[0m\n",
            "\u001b[0;31mZeroDivisionError\u001b[0m: float division by zero"
          ]
        }
      ]
    },
    {
      "cell_type": "code",
      "source": [
        "amortizedLoanLambda = lambda P,i,n: round((P*i)/(1-(1+i)**-n),2) if i > 0 else 0\n",
        "amortizedLoanLambda(980000, 0.0286, 30)"
      ],
      "metadata": {
        "id": "TtaFy5iH3dEf",
        "outputId": "c8b9c25f-8ce7-4fb8-b231-a8b6963c8dc3",
        "colab": {
          "base_uri": "https://localhost:8080/"
        }
      },
      "execution_count": 20,
      "outputs": [
        {
          "output_type": "execute_result",
          "data": {
            "text/plain": [
              "49098.31"
            ]
          },
          "metadata": {},
          "execution_count": 20
        }
      ]
    },
    {
      "cell_type": "code",
      "source": [
        "amortizedLoanLambda(2000000, 0.05, 20)"
      ],
      "metadata": {
        "id": "u8XVZm0v3srs",
        "outputId": "6f84aa15-a887-4139-ba6c-a10588497827",
        "colab": {
          "base_uri": "https://localhost:8080/"
        }
      },
      "execution_count": 21,
      "outputs": [
        {
          "output_type": "execute_result",
          "data": {
            "text/plain": [
              "160485.17"
            ]
          },
          "metadata": {},
          "execution_count": 21
        }
      ]
    },
    {
      "cell_type": "code",
      "source": [
        "amortizedLoanLambda(5000000, 0, 28)"
      ],
      "metadata": {
        "id": "gAYZB0ERHDln",
        "outputId": "fabb68ee-ed05-4c99-e7b5-008f4fae51ce",
        "colab": {
          "base_uri": "https://localhost:8080/"
        }
      },
      "execution_count": 22,
      "outputs": [
        {
          "output_type": "execute_result",
          "data": {
            "text/plain": [
              "0"
            ]
          },
          "metadata": {},
          "execution_count": 22
        }
      ]
    },
    {
      "cell_type": "code",
      "source": [
        "def amortizedLoanPayment(borrowed, rate, n):\n",
        "  \"\"\" Compute the amortized loan payment amount\n",
        "      \n",
        "      Args:\n",
        "          borrowed: amount borrowed\n",
        "          rate: interest rate per period\n",
        "          n: number of payments\n",
        "      Returns:\n",
        "          The annual ammortized loan payment\n",
        "  \"\"\"\n",
        "  if rate > 0:\n",
        "    loanPayment = (borrowed*rate)/(1-(1+rate)**-n)\n",
        "  else:\n",
        "    return 0\n",
        "  return round(loanPayment,2)\n",
        "\n",
        "amortizedLoanPayment(980000, 0.0286, 30)"
      ],
      "metadata": {
        "id": "ffja4oGv3wT0",
        "outputId": "63ced510-cd59-4a77-e2a5-0578234b22c7",
        "colab": {
          "base_uri": "https://localhost:8080/"
        }
      },
      "execution_count": 23,
      "outputs": [
        {
          "output_type": "execute_result",
          "data": {
            "text/plain": [
              "49098.31"
            ]
          },
          "metadata": {},
          "execution_count": 23
        }
      ]
    },
    {
      "cell_type": "code",
      "source": [
        "amortizedLoanPayment(5000000, 0, 28)"
      ],
      "metadata": {
        "id": "fELC1u0ZHQG2",
        "outputId": "51623dc4-c3c5-4950-b2e2-184f3947bfc3",
        "colab": {
          "base_uri": "https://localhost:8080/"
        }
      },
      "execution_count": 24,
      "outputs": [
        {
          "output_type": "execute_result",
          "data": {
            "text/plain": [
              "0"
            ]
          },
          "metadata": {},
          "execution_count": 24
        }
      ]
    },
    {
      "cell_type": "code",
      "source": [
        "def test_amortizedLoanPayment():\n",
        "  assert amortizedLoanPayment(980000, 0.0286, 30) == 49098.31\n",
        "  assert amortizedLoanPayment(2000000, 0.05, 20) == 160485.17\n",
        "  assert amortizedLoanPayment(5000000, 0, 28) == 0\n",
        "  assert not amortizedLoanPayment(6000000,0.532,40) == 750500.32\n",
        "\n",
        "test_amortizedLoanPayment()"
      ],
      "metadata": {
        "id": "IkF863nw4oS0"
      },
      "execution_count": 25,
      "outputs": []
    },
    {
      "cell_type": "markdown",
      "metadata": {
        "id": "Cj8uFpsjaO01"
      },
      "source": [
        "#### Problem 4 -- Apply the process to create a remaining balance function"
      ]
    },
    {
      "cell_type": "code",
      "execution_count": 26,
      "metadata": {
        "id": "I9qJZ2StaO01",
        "outputId": "7ed2b39f-6983-4b12-fe58-746152af6538",
        "colab": {
          "base_uri": "https://localhost:8080/"
        }
      },
      "outputs": [
        {
          "output_type": "execute_result",
          "data": {
            "text/plain": [
              "736361.06"
            ]
          },
          "metadata": {},
          "execution_count": 26
        }
      ],
      "source": [
        "R,i,n,x = 75000, 0.08,50,30\n",
        "B = R*(1-(1+i)**-(n-x))/i\n",
        "round(B,2)"
      ]
    },
    {
      "cell_type": "code",
      "source": [
        "R,i,n,x = 100000, 0.02,36,12\n",
        "B = R*(1-(1+i)**-(n-x))/i\n",
        "round(B,2)"
      ],
      "metadata": {
        "id": "2TLt5lmD7VDZ",
        "outputId": "e686dbaa-9b2b-4e39-ccde-9004ccfc9308",
        "colab": {
          "base_uri": "https://localhost:8080/"
        }
      },
      "execution_count": 27,
      "outputs": [
        {
          "output_type": "execute_result",
          "data": {
            "text/plain": [
              "1891392.56"
            ]
          },
          "metadata": {},
          "execution_count": 27
        }
      ]
    },
    {
      "cell_type": "code",
      "source": [
        "R,i,n,x = 600000, 0.02,0,15\n",
        "B = R*(1-(1+i)**-(n-x))/i\n",
        "round(B,2)"
      ],
      "metadata": {
        "id": "MJ8bt793Hkbq",
        "outputId": "858612d3-52f1-4b9b-d0fb-b2f5b4e022a5",
        "colab": {
          "base_uri": "https://localhost:8080/"
        }
      },
      "execution_count": 28,
      "outputs": [
        {
          "output_type": "execute_result",
          "data": {
            "text/plain": [
              "-10376050.15"
            ]
          },
          "metadata": {},
          "execution_count": 28
        }
      ]
    },
    {
      "cell_type": "code",
      "source": [
        "R,i,n,x = 700000, 0.0,36,36\n",
        "B = R*(1-(1+i)**-(n-x))/i\n",
        "round(B,2)"
      ],
      "metadata": {
        "id": "kudNdsxxIDGr",
        "outputId": "87176eab-2550-477d-8765-c703e2724a04",
        "colab": {
          "base_uri": "https://localhost:8080/",
          "height": 200
        }
      },
      "execution_count": 29,
      "outputs": [
        {
          "output_type": "error",
          "ename": "ZeroDivisionError",
          "evalue": "ignored",
          "traceback": [
            "\u001b[0;31m---------------------------------------------------------------------------\u001b[0m",
            "\u001b[0;31mZeroDivisionError\u001b[0m                         Traceback (most recent call last)",
            "\u001b[0;32m<ipython-input-29-8f60291532ae>\u001b[0m in \u001b[0;36m<module>\u001b[0;34m\u001b[0m\n\u001b[1;32m      1\u001b[0m \u001b[0mR\u001b[0m\u001b[0;34m,\u001b[0m\u001b[0mi\u001b[0m\u001b[0;34m,\u001b[0m\u001b[0mn\u001b[0m\u001b[0;34m,\u001b[0m\u001b[0mx\u001b[0m \u001b[0;34m=\u001b[0m \u001b[0;36m700000\u001b[0m\u001b[0;34m,\u001b[0m \u001b[0;36m0.0\u001b[0m\u001b[0;34m,\u001b[0m\u001b[0;36m36\u001b[0m\u001b[0;34m,\u001b[0m\u001b[0;36m36\u001b[0m\u001b[0;34m\u001b[0m\u001b[0;34m\u001b[0m\u001b[0m\n\u001b[0;32m----> 2\u001b[0;31m \u001b[0mB\u001b[0m \u001b[0;34m=\u001b[0m \u001b[0mR\u001b[0m\u001b[0;34m*\u001b[0m\u001b[0;34m(\u001b[0m\u001b[0;36m1\u001b[0m\u001b[0;34m-\u001b[0m\u001b[0;34m(\u001b[0m\u001b[0;36m1\u001b[0m\u001b[0;34m+\u001b[0m\u001b[0mi\u001b[0m\u001b[0;34m)\u001b[0m\u001b[0;34m**\u001b[0m\u001b[0;34m-\u001b[0m\u001b[0;34m(\u001b[0m\u001b[0mn\u001b[0m\u001b[0;34m-\u001b[0m\u001b[0mx\u001b[0m\u001b[0;34m)\u001b[0m\u001b[0;34m)\u001b[0m\u001b[0;34m/\u001b[0m\u001b[0mi\u001b[0m\u001b[0;34m\u001b[0m\u001b[0;34m\u001b[0m\u001b[0m\n\u001b[0m\u001b[1;32m      3\u001b[0m \u001b[0mround\u001b[0m\u001b[0;34m(\u001b[0m\u001b[0mB\u001b[0m\u001b[0;34m,\u001b[0m\u001b[0;36m2\u001b[0m\u001b[0;34m)\u001b[0m\u001b[0;34m\u001b[0m\u001b[0;34m\u001b[0m\u001b[0m\n",
            "\u001b[0;31mZeroDivisionError\u001b[0m: float division by zero"
          ]
        }
      ]
    },
    {
      "cell_type": "code",
      "source": [
        "remianingBalanceLambda = lambda R,i,n,x: round(R*(1-(1+i)**-(n-x))/i,2) if i > 0 and n >= x else 0\n",
        "remianingBalanceLambda(75000, 0.08,50,30)"
      ],
      "metadata": {
        "id": "_TQhWeAm8M_5",
        "outputId": "3833591d-6c9e-4b44-b988-bebc323f829e",
        "colab": {
          "base_uri": "https://localhost:8080/"
        }
      },
      "execution_count": 30,
      "outputs": [
        {
          "output_type": "execute_result",
          "data": {
            "text/plain": [
              "736361.06"
            ]
          },
          "metadata": {},
          "execution_count": 30
        }
      ]
    },
    {
      "cell_type": "code",
      "source": [
        "remianingBalanceLambda(100000, 0.02,36,12)"
      ],
      "metadata": {
        "id": "9PVqRDXB8kpl",
        "outputId": "2232dcc4-033a-402f-8453-b2629c678023",
        "colab": {
          "base_uri": "https://localhost:8080/"
        }
      },
      "execution_count": 31,
      "outputs": [
        {
          "output_type": "execute_result",
          "data": {
            "text/plain": [
              "1891392.56"
            ]
          },
          "metadata": {},
          "execution_count": 31
        }
      ]
    },
    {
      "cell_type": "code",
      "source": [
        "remianingBalanceLambda(600000, 0.02,0,15)"
      ],
      "metadata": {
        "id": "rMsUeukhIanc",
        "outputId": "76490f14-802d-405f-9d45-5099142b28c7",
        "colab": {
          "base_uri": "https://localhost:8080/"
        }
      },
      "execution_count": 32,
      "outputs": [
        {
          "output_type": "execute_result",
          "data": {
            "text/plain": [
              "0"
            ]
          },
          "metadata": {},
          "execution_count": 32
        }
      ]
    },
    {
      "cell_type": "code",
      "source": [
        "remianingBalanceLambda(700000, 0.0,36,36)"
      ],
      "metadata": {
        "id": "_LG5u4irIkLl",
        "outputId": "4a35342a-14c9-4aaa-aeb5-558932424f8d",
        "colab": {
          "base_uri": "https://localhost:8080/"
        }
      },
      "execution_count": 33,
      "outputs": [
        {
          "output_type": "execute_result",
          "data": {
            "text/plain": [
              "0"
            ]
          },
          "metadata": {},
          "execution_count": 33
        }
      ]
    },
    {
      "cell_type": "code",
      "source": [
        "def remianingBalance(regularPayments, rate, numPayments, paymentMade):\n",
        "  \"\"\" Compute the remaining balance\n",
        "      \n",
        "      Args:\n",
        "          regularPayments: amount borrowed\n",
        "          rate: interest rate per period\n",
        "          numPayments: number of payments\n",
        "          paymentMade: number of payments already made\n",
        "      Returns:\n",
        "          The remaining balance\n",
        "  \"\"\"\n",
        "\n",
        "  if rate > 0 and numPayments >= paymentMade:\n",
        "    remBalance = regularPayments*(1-(1+rate)**-(numPayments-paymentMade))/rate\n",
        "  else:\n",
        "    return 0\n",
        "  return round(remBalance,2)\n",
        "\n",
        "remianingBalance(75000, 0.08,50,30)"
      ],
      "metadata": {
        "id": "Z59jLFpC85lq",
        "outputId": "ad205b58-b0aa-4e98-bbbd-ddb32f56c9aa",
        "colab": {
          "base_uri": "https://localhost:8080/"
        }
      },
      "execution_count": 34,
      "outputs": [
        {
          "output_type": "execute_result",
          "data": {
            "text/plain": [
              "736361.06"
            ]
          },
          "metadata": {},
          "execution_count": 34
        }
      ]
    },
    {
      "cell_type": "code",
      "source": [
        "remianingBalance(600000, 0.02,0,15)"
      ],
      "metadata": {
        "id": "USGuJLzxJFVr",
        "outputId": "08a759b1-9612-46c1-ff4d-afceebfd9934",
        "colab": {
          "base_uri": "https://localhost:8080/"
        }
      },
      "execution_count": 35,
      "outputs": [
        {
          "output_type": "execute_result",
          "data": {
            "text/plain": [
              "0"
            ]
          },
          "metadata": {},
          "execution_count": 35
        }
      ]
    },
    {
      "cell_type": "code",
      "source": [
        "remianingBalance(700000, 0.0,36,36)"
      ],
      "metadata": {
        "id": "3_y4edG-JLbn",
        "outputId": "d16a997d-df75-40fb-989a-dae3f6098448",
        "colab": {
          "base_uri": "https://localhost:8080/"
        }
      },
      "execution_count": 36,
      "outputs": [
        {
          "output_type": "execute_result",
          "data": {
            "text/plain": [
              "0"
            ]
          },
          "metadata": {},
          "execution_count": 36
        }
      ]
    },
    {
      "cell_type": "code",
      "source": [
        "def test_remianingBalance():\n",
        "  assert remianingBalance(75000, 0.08,50,30) == 736361.06\n",
        "  assert remianingBalance(100000, 0.02,36,12) == 1891392.56\n",
        "  assert remianingBalance(600000, 0.02,0,15) == 0\n",
        "  assert remianingBalance(700000, 0.0,36,36) == 0\n",
        "  assert not remianingBalance(43000,0.01,40,48) == 21200.50\n",
        "\n",
        "test_remianingBalance()"
      ],
      "metadata": {
        "id": "hwu73Yrs9g9k"
      },
      "execution_count": 37,
      "outputs": []
    }
  ],
  "metadata": {
    "kernelspec": {
      "display_name": "Python 3",
      "language": "python",
      "name": "python3"
    },
    "language_info": {
      "codemirror_mode": {
        "name": "ipython",
        "version": 3
      },
      "file_extension": ".py",
      "mimetype": "text/x-python",
      "name": "python",
      "nbconvert_exporter": "python",
      "pygments_lexer": "ipython3",
      "version": "3.7.2"
    },
    "colab": {
      "provenance": [],
      "include_colab_link": true
    }
  },
  "nbformat": 4,
  "nbformat_minor": 0
}